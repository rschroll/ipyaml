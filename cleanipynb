#!/usr/bin/env python

"""Clean notebooks.  This removes all but the sources of the cells and the basic
notebook metadata needed for Jupyter.  The notebook is also converted to version
4.0.
"""

import argparse
import os
import sys

import nbformat
from nbclean import clean_v4_nb

if __name__ == '__main__':

    parser = argparse.ArgumentParser(description=__doc__)
    parser.add_argument('notebook', nargs='+', help='Notebook to convert')
    parser.add_argument('-F', '--no-flag', action='store_true',
                        help="Don't add a flag to the notebook metadata")
    args = parser.parse_args()

    for fn in args.notebook:
        nb = nbformat.read(fn, nbformat.NO_CONVERT)
        nbformat.write(clean_v4_nb(nb, not args.no_flag), fn)
